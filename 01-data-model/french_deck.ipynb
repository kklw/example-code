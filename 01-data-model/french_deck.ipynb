{
 "cells": [
  {
   "cell_type": "code",
   "execution_count": 2,
   "metadata": {
    "collapsed": true
   },
   "outputs": [],
   "source": [
    "import collections\n",
    "\n",
    "Card = collections.namedtuple('Card', ['rank', 'suit'])\n",
    "\n",
    "class FrenchDeck:\n",
    "    ranks = [str(n) for n in range(2, 11)] + list('JQKA')\n",
    "    suits = 'spades diamonds clubs hearts'.split()\n",
    "\n",
    "    def __init__(self):\n",
    "        self._cards = [Card(rank, suit) for suit in self.suits\n",
    "                                        for rank in self.ranks]\n",
    "\n",
    "    def __len__(self):\n",
    "        return len(self._cards)\n",
    "\n",
    "    def __getitem__(self, position):\n",
    "        return self._cards[position]"
   ]
  },
  {
   "cell_type": "markdown",
   "metadata": {},
   "source": [
    "# Advantages\n",
    "2 special methods, \\__len\\__ & \\__getitem\\__ . (dunder-len & dunder-getitem)\n",
    "\n",
    "##  \\__len__\n",
    "1. allows len()\n",
    "\n",
    "## \\__getitem__\n",
    "1. allows reading specific cards\n",
    "2. allows getting a random item easily, choice()\n",
    "3. allows slicing\n",
    "4. iterable, iter reverse too\n",
    "5. sorting\n",
    "\n",
    "# Others\n",
    "1. shuffling is not allowed"
   ]
  },
  {
   "cell_type": "code",
   "execution_count": 3,
   "metadata": {
    "collapsed": false
   },
   "outputs": [
    {
     "data": {
      "text/plain": [
       "Card(rank='7', suit='diamonds')"
      ]
     },
     "execution_count": 3,
     "metadata": {},
     "output_type": "execute_result"
    }
   ],
   "source": [
    "# init a card\n",
    ">>> beer_card = Card('7', 'diamonds')\n",
    ">>> beer_card"
   ]
  },
  {
   "cell_type": "code",
   "execution_count": 4,
   "metadata": {
    "collapsed": false
   },
   "outputs": [
    {
     "data": {
      "text/plain": [
       "52"
      ]
     },
     "execution_count": 4,
     "metadata": {},
     "output_type": "execute_result"
    }
   ],
   "source": [
    "# power of __len__\n",
    ">>> deck = FrenchDeck()\n",
    ">>> len(deck)"
   ]
  },
  {
   "cell_type": "code",
   "execution_count": 5,
   "metadata": {
    "collapsed": false
   },
   "outputs": [
    {
     "data": {
      "text/plain": [
       "[Card(rank='2', suit='spades'),\n",
       " Card(rank='3', suit='spades'),\n",
       " Card(rank='4', suit='spades')]"
      ]
     },
     "execution_count": 5,
     "metadata": {},
     "output_type": "execute_result"
    }
   ],
   "source": [
    "# power of __getitem__\n",
    ">>> deck[0]\n",
    "Card(rank='2', suit='spades')\n",
    ">>> deck[-1]\n",
    "Card(rank='A', suit='hearts')\n",
    "\n",
    ">>> from random import choice\n",
    ">>> choice(deck)\n",
    "Card(rank='3', suit='hearts')\n",
    ">>> choice(deck)\n",
    "Card(rank='K', suit='spades')\n",
    ">>> choice(deck)\n",
    "Card(rank='2', suit='clubs')\n",
    "\n",
    ">>> from random import choice\n",
    ">>> choice(deck)\n",
    "Card(rank='3', suit='hearts')\n",
    "\n",
    ">>> deck[:3]\n",
    "[Card(rank='2', suit='spades'), Card(rank='3', suit='spades'),\n",
    "Card(rank='4', suit='spades')]\n",
    "\n",
    "#for card in deck:  # doctest: +ELLIPSIS\n",
    "#  print(card)\n",
    "\n",
    "#for card in reversed(deck):  # doctest: +ELLIPSIS\n",
    "#  print(card)"
   ]
  },
  {
   "cell_type": "code",
   "execution_count": null,
   "metadata": {
    "collapsed": true
   },
   "outputs": [],
   "source": []
  }
 ],
 "metadata": {
  "kernelspec": {
   "display_name": "Python 2",
   "language": "python",
   "name": "python2"
  },
  "language_info": {
   "codemirror_mode": {
    "name": "ipython",
    "version": 2
   },
   "file_extension": ".py",
   "mimetype": "text/x-python",
   "name": "python",
   "nbconvert_exporter": "python",
   "pygments_lexer": "ipython2",
   "version": "2.7.6"
  }
 },
 "nbformat": 4,
 "nbformat_minor": 0
}
